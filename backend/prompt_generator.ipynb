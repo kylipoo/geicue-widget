This is my python file {

"cells": [

  {

   "attachments": {

    "18f6888d-c412-4c53-ac3c-239fb90d2b6c.png": {

     "image/png": "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"

    }

   },

   "cell_type": "markdown",

   "id": "d72fae4e-f7de-42b7-91ee-bdd0a57ae46c",

   "metadata": {},

   "source": [

    "# 🤖 Prompt Generation from User Requirements\n",

    "We will be using both langgraph and langsmith\n",

    "In this example we will create a chat bot that helps a user generate a prompt.\n",

    "It will first collect requirements from the user, and then will generate the prompt (and refine it based on user input).\n",

    "These are split into two separate states, and the LLM decides when to transition between them.\n",

    "\n",

    "A graphical representation of the system can be found below.\n",

    "\n",

    "![prompt-generator.png](attachment:18f6888d-c412-4c53-ac3c-239fb90d2b6c.png)\n",

    "\n",

    "## 📊 Monitoring & Tracing\n",

    "\n",

    "We have the capability to trace the agent via LangSmith UI. After running the app you can go to the <a href=\https://langsmith.np1.az.cloud.geico.net/\>LangSmith UI and trace it</a>"

   ]

  },

  {

   "cell_type": "markdown",

   "id": "bb66b808",

   "metadata": {},

   "source": [

    "## Setup\n",

    "\n",

    "First, let's install our required packages and set our OpenAI API key (the LLM we will use)"

   ]

  },

  {

   "cell_type": "code",

   "execution_count": 54,

   "id": "9aa583d7",

   "metadata": {},

   "outputs": [

    {

     "name": "stdout",

     "output_type": "stream",

     "text": [

      "Requirement already satisfied: langgraph in c:\\users\\a290526\\appdata\\local\\programs\\python\\python310\\lib\\site-packages (0.5.1)\n",

      "Requirement already satisfied: langchain_openai in c:\\users\\a290526\\appdata\\local\\programs\\python\\python310\\lib\\site-packages (0.3.27)\n",

      "Requirement already satisfied: langchain_core in c:\\users\\a290526\\appdata\\local\\programs\\python\\python310\\lib\\site-packages (0.3.68)\n",

      "Requirement already satisfied: pip-system-certs in c:\\users\\a290526\\appdata\\local\\programs\\python\\python310\\lib\\site-packages (5.2)\n",

      "Requirement already satisfied: openai in c:\\users\\a290526\\appdata\\local\\programs\\python\\python310\\lib\\site-packages (1.93.0)\n",

      "Requirement already satisfied: langgraph-checkpoint<3.0.0,>=2.1.0 in c:\\users\\a290526\\appdata\\local\\programs\\python\\python310\\lib\\site-packages (from langgraph) (2.1.0)\n",

      "Requirement already satisfied: langgraph-prebuilt<0.6.0,>=0.5.0 in c:\\users\\a290526\\appdata\\local\\programs\\python\\python310\\lib\\site-packages (from langgraph) (0.5.2)\n",

      "Requirement already satisfied: langgraph-sdk<0.2.0,>=0.1.42 in c:\\users\\a290526\\appdata\\local\\programs\\python\\python310\\lib\\site-packages (from langgraph) (0.1.72)\n",

      "Requirement already satisfied: pydantic>=2.7.4 in c:\\users\\a290526\\appdata\\local\\programs\\python\\python310\\lib\\site-packages (from langgraph) (2.11.7)\n",

      "Requirement already satisfied: xxhash>=3.5.0 in c:\\users\\a290526\\appdata\\local\\programs\\python\\python310\\lib\\site-packages (from langgraph) (3.5.0)\n",

      "Requirement already satisfied: ormsgpack>=1.10.0 in c:\\users\\a290526\\appdata\\local\\programs\\python\\python310\\lib\\site-packages (from langgraph-checkpoint<3.0.0,>=2.1.0->langgraph) (1.10.0)\n",

      "Requirement already satisfied: httpx>=0.25.2 in c:\\users\\a290526\\appdata\\local\\programs\\python\\python310\\lib\\site-packages (from langgraph-sdk<0.2.0,>=0.1.42->langgraph) (0.28.1)\n",

      "Requirement already satisfied: orjson>=3.10.1 in c:\\users\\a290526\\appdata\\local\\programs\\python\\python310\\lib\\site-packages (from langgraph-sdk<0.2.0,>=0.1.42->langgraph) (3.10.18)\n",

      "Requirement already satisfied: tiktoken<1,>=0.7 in c:\\users\\a290526\\appdata\\local\\programs\\python\\python310\\lib\\site-packages (from langchain_openai) (0.9.0)\n",

      "Requirement already satisfied: langsmith>=0.3.45 in c:\\users\\a290526\\appdata\\local\\programs\\python\\python310\\lib\\site-packages (from langchain_core) (0.4.4)\n",

      "Requirement already satisfied: tenacity!=8.4.0,<10.0.0,>=8.1.0 in c:\\users\\a290526\\appdata\\local\\programs\\python\\python310\\lib\\site-packages (from langchain_core) (9.1.2)\n",

      "Requirement already satisfied: jsonpatch<2.0,>=1.33 in c:\\users\\a290526\\appdata\\local\\programs\\python\\python310\\lib\\site-packages (from langchain_core) (1.33)\n",

      "Requirement already satisfied: PyYAML>=5.3 in c:\\users\\a290526\\appdata\\local\\programs\\python\\python310\\lib\\site-packages (from langchain_core) (6.0.2)\n",

      "Requirement already satisfied: packaging<25,>=23.2 in c:\\users\\a290526\\appdata\\local\\programs\\python\\python310\\lib\\site-packages (from langchain_core) (24.2)\n",

      "Requirement already satisfied: typing-extensions>=4.7 in c:\\users\\a290526\\appdata\\roaming\\python\\python310\\site-packages (from langchain_core) (4.14.0)\n",

      "Requirement already satisfied: anyio<5,>=3.5.0 in c:\\users\\a290526\\appdata\\local\\programs\\python\\python310\\lib\\site-packages (from openai) (4.9.0)\n",

      "Requirement already satisfied: distro<2,>=1.7.0 in c:\\users\\a290526\\appdata\\local\\programs\\python\\python310\\lib\\site-packages (from openai) (1.9.0)\n",

      "Requirement already satisfied: jiter<1,>=0.4.0 in c:\\users\\a290526\\appdata\\local\\programs\\python\\python310\\lib\\site-packages (from openai) (0.10.0)\n",

      "Requirement already satisfied: sniffio in c:\\users\\a290526\\appdata\\local\\programs\\python\\python310\\lib\\site-packages (from openai) (1.3.1)\n",

      "Requirement already satisfied: tqdm>4 in c:\\users\\a290526\\appdata\\local\\programs\\python\\python310\\lib\\site-packages (from openai) (4.67.1)\n",

      "Requirement already satisfied: exceptiongroup>=1.0.2 in c:\\users\\a290526\\appdata\\roaming\\python\\python310\\site-packages (from anyio<5,>=3.5.0->openai) (1.3.0)\n",

      "Requirement already satisfied: idna>=2.8 in c:\\users\\a290526\\appdata\\local\\programs\\python\\python310\\lib\\site-packages (from anyio<5,>=3.5.0->openai) (3.10)\n",

      "Requirement already satisfied: certifi in c:\\users\\a290526\\appdata\\local\\programs\\python\\python310\\lib\\site-packages (from httpx>=0.25.2->langgraph-sdk<0.2.0,>=0.1.42->langgraph) (2025.6.15)\n",

      "Requirement already satisfied: httpcore==1.* in c:\\users\\a290526\\appdata\\local\\programs\\python\\python310\\lib\\site-packages (from httpx>=0.25.2->langgraph-sdk<0.2.0,>=0.1.42->langgraph) (1.0.9)\n",

      "Requirement already satisfied: h11>=0.16 in c:\\users\\a290526\\appdata\\local\\programs\\python\\python310\\lib\\site-packages (from httpcore==1.*->httpx>=0.25.2->langgraph-sdk<0.2.0,>=0.1.42->langgraph) (0.16.0)\n",

      "Requirement already satisfied: jsonpointer>=1.9 in c:\\users\\a290526\\appdata\\local\\programs\\python\\python310\\lib\\site-packages (from jsonpatch<2.0,>=1.33->langchain_core) (3.0.0)\n",

      "Requirement already satisfied: annotated-types>=0.6.0 in c:\\users\\a290526\\appdata\\local\\programs\\python\\python310\\lib\\site-packages (from pydantic>=2.7.4->langgraph) (0.7.0)\n",

      "Requirement already satisfied: pydantic-core==2.33.2 in c:\\users\\a290526\\appdata\\local\\programs\\python\\python310\\lib\\site-packages (from pydantic>=2.7.4->langgraph) (2.33.2)\n",

      "Requirement already satisfied: typing-inspection>=0.4.0 in c:\\users\\a290526\\appdata\\local\\programs\\python\\python310\\lib\\site-packages (from pydantic>=2.7.4->langgraph) (0.4.1)\n",

      "Requirement already satisfied: regex>=2022.1.18 in c:\\users\\a290526\\appdata\\local\\programs\\python\\python310\\lib\\site-packages (from tiktoken<1,>=0.7->langchain_openai) (2024.11.6)\n",

      "Requirement already satisfied: requests>=2.26.0 in c:\\users\\a290526\\appdata\\local\\programs\\python\\python310\\lib\\site-packages (from tiktoken<1,>=0.7->langchain_openai) (2.32.4)\n",

      "Requirement already satisfied: pip>=24.2 in c:\\users\\a290526\\appdata\\local\\programs\\python\\python310\\lib\\site-packages (from pip-system-certs) (25.1.1)\n",

      "Requirement already satisfied: requests-toolbelt<2.0.0,>=1.0.0 in c:\\users\\a290526\\appdata\\local\\programs\\python\\python310\\lib\\site-packages (from langsmith>=0.3.45->langchain_core) (1.0.0)\n",

      "Requirement already satisfied: zstandard<0.24.0,>=0.23.0 in c:\\users\\a290526\\appdata\\local\\programs\\python\\python310\\lib\\site-packages (from langsmith>=0.3.45->langchain_core) (0.23.0)\n",

      "Requirement already satisfied: charset_normalizer<4,>=2 in c:\\users\\a290526\\appdata\\local\\programs\\python\\python310\\lib\\site-packages (from requests>=2.26.0->tiktoken<1,>=0.7->langchain_openai) (3.4.2)\n",

      "Requirement already satisfied: urllib3<3,>=1.21.1 in c:\\users\\a290526\\appdata\\local\\programs\\python\\python310\\lib\\site-packages (from requests>=2.26.0->tiktoken<1,>=0.7->langchain_openai) (2.4.0)\n",

      "Requirement already satisfied: colorama in c:\\users\\a290526\\appdata\\roaming\\python\\python310\\site-packages (from tqdm>4->openai) (0.4.6)\n",

      "Note: you may need to restart the kernel to use updated packages.\n"

     ]

    }

   ],

   "source": [

    "pip install -U langgraph langchain_openai langchain_core  pip-system-certs openai"

   ]

  },

  {

   "cell_type": "markdown",

   "id": "ea7317ca",

   "metadata": {},

   "source": [

    "## Setup openai enviroments"

   ]

  },

  {

   "cell_type": "code",

   "execution_count": null,

   "id": "7cd84ff0",

   "metadata": {},

   "outputs": [],

   "source": [

    "\n",

    "import os\n",

    "os.environ[\"API_KEY\"] = \"CONFIDENTIAL-KEY-HERE\"\n",

    "os.environ[\"BASE_URL\"] = \https://trussedaisb1.geico.net/provider/generic/\\n",

    "os.environ[\"MODEL_NAME\"] = \"gpt-4o\"  # ToolCalling is possible with only gpt-4 , gpt-4o and Qwen/Qwen2.5-72B-Instruct"

   ]

  },

  {

   "cell_type": "markdown",

   "id": "105a371d",

   "metadata": {},

   "source": [

    "## Setup langsmith environments\n",

    "\n",

    "LangSmith helps to quickly spot issues and improve the performance of your LangGraph projects. LangSmith lets you use trace data to debug, test, and monitor your LLM apps built with LangGraph. Once the agent is running, you can go to <a href=\https://langsmith.np1.az.cloud.geico.net/\>here and monitor the trace</a>. \n"

   ]

  },

  {

   "cell_type": "code",

   "execution_count": null,

   "id": "6ddf2f0d",

   "metadata": {},

   "outputs": [],

   "source": [

    "os.environ[\"LANGSMITH_TRACING_V2\"] = \"true\"\n",

    "os.environ[\"LANGCHAIN_ENDPOINT\"] = \https://langsmith.np1.az.cloud.geico.net/api/v1\\n",

    "os.environ[\"LANGCHAIN_API_KEY\"] = \"CONFIDENTIAL-KEY-HERE\"\n",

    "os.environ[\"LANGCHAIN_PROJECT\"] = \"Prompt generator agent\""

   ]

  },

  {

   "cell_type": "markdown",

   "id": "6d78b593-ba26-4c90-b2e2-83119e47679f",

   "metadata": {},

   "source": [

    "## Gather information\n",

    "\n",

    "First, let's define the part of the graph that will gather user requirements. This will be an LLM call with a specific system message. It will have access to a tool that it can call when it is ready to generate the prompt."

   ]

  },

  {

   "cell_type": "markdown",

   "id": "0d731dcc-8295-498d-a95f-644ce24a717e",

   "metadata": {},

   "source": [

    "<div class=\"admonition note\">\n",

    "    <p class=\"admonition-title\">Using Pydantic with LangChain</p>\n",

    "    <p>\n",

    "        This notebook uses Pydantic v2 <code>BaseModel</code>, which requires <code>langchain-core >= 0.3</code>. Using <code>langchain-core < 0.3</code> will result in errors due to mixing of Pydantic v1 and v2 <code>BaseModels</code>.\n",

    "    </p>\n",

    "</div>"

   ]

  },

  {

   "cell_type": "code",

   "execution_count": 57,

   "id": "53216ab5-2cd3-48a4-8778-41ba10f72519",

   "metadata": {},

   "outputs": [],

   "source": [

    "from typing import List\n",

    "from langchain_core.messages import SystemMessage, HumanMessage\n",

    "from langchain_openai import ChatOpenAI\n",

    "from pydantic import BaseModel\n"

   ]

  },

  {

   "cell_type": "code",

   "execution_count": 58,

   "id": "5f795b78-004d-40ca-95d6-069f67e4f9c9",

   "metadata": {},

   "outputs": [],

   "source": [

    "\n",

    "template = \"\"\"Your job is to get information from a user about what type of prompt template they want to create.\n",

    "\n",

    "You should get the following information from them:\n",

    "\n",

    "- What the objective of the prompt is\n",

    "- What variables will be passed into the prompt template\n",

    "- Any constraints for what the output should NOT do\n",

    "- Any requirements that the output MUST adhere to\n",

    "\n",

    "If you are not able to discern this info, ask them to clarify! Do not attempt to wildly guess.\n",

    "\n",

    "After you are able to discern all the information, call the relevant tool.\"\"\"\n",

    "\n",

    "def get_messages_info(messages):\n",

    "    return [SystemMessage(content=template)] + messages\n",

    "\n",

    "class PromptInstructions(BaseModel):\n",

    "    \"\"\"Instructions on how to prompt the LLM.\"\"\"\n",

    "\n",

    "    objective: str\n",

    "    variables: List[str]\n",

    "    constraints: List[str]\n",

    "    requirements: List[str]\n",

    "\n",

    "\n",

    "\n",

    "llm = ChatOpenAI(\n",

    "    api_key=os.getenv(\"API_KEY\"),\n",

    "    base_url=os.getenv(\"BASE_URL\"),\n",

    "    model=os.getenv(\"MODEL_NAME\"),\n",

    ")\n",

    "\n",

    "llm_with_tool = llm.bind_tools([PromptInstructions])\n",

    "\n",

    "def info_chain(state):\n",

    "    messages = get_messages_info(state[\"messages\"])\n",

    "    response = llm_with_tool.invoke(messages)\n",

    "    return {\"messages\": [response]}\n",

    "\n"

   ]

  },

  {

   "cell_type": "markdown",

   "id": "bb40630f-83c7-4283-a6dd-04231805a7ed",

   "metadata": {},

   "source": [

    "## Generate Prompt\n",

    "\n",

    "We now set up the state that will generate the prompt.\n",

    "This will require a separate system message, as well as a function to filter out all message PRIOR to the tool invocation (as that is when the previous state decided it was time to generate the prompt"

   ]

  },

  {

   "cell_type": "code",

   "execution_count": 59,

   "id": "ca9a0234-bbeb-4bff-8276-8dde499c3390",

   "metadata": {},

   "outputs": [],

   "source": [

    "from langchain_core.messages import AIMessage, ToolMessage\n",

    "\n",

    "# New system prompt\n",

    "prompt_system = \"\"\"Based on the following requirements, write a good prompt template:\n",

    "\n",

    "{reqs}\"\"\"\n",

    "\n",

    "\n",

    "# Function to get the messages for the prompt\n",

    "# Will only get messages AFTER the tool call\n",

    "def get_prompt_messages(messages: list):\n",

    "    tool_call = None\n",

    "    other_msgs = []\n",

    "    for m in messages:\n",

    "        if isinstance(m, AIMessage) and m.tool_calls:\n",

    "            tool_call = m.tool_calls[0][\"args\"]\n",

    "        elif isinstance(m, ToolMessage):\n",

    "            continue\n",

    "        elif tool_call is not None:\n",

    "            other_msgs.append(m)\n",

    "    return [SystemMessage(content=prompt_system.format(reqs=tool_call))] + other_msgs\n",

    "\n",

    "\n",

    "def prompt_gen_chain(state):\n",

    "    messages = get_prompt_messages(state[\"messages\"])\n",

    "    response = llm.invoke(messages)\n",

    "    return {\"messages\": [response]}"

   ]

  },

  {

   "cell_type": "markdown",

   "id": "8dbabda8-34f0-4eef-bce2-ad3ff505366b",

   "metadata": {},

   "source": [

    "## Define the state logic\n",

    "\n",

    "This is the logic for what state the chatbot is in.\n",

    "If the last message is a tool call, then we are in the state where the \"prompt creator\" (prompt) should respond.\n",

    "Otherwise, if the last message is not a HumanMessage, then we know the human should respond next and so we are in the END state.\n",

    "If the last message is a HumanMessage, then if there was a tool call previously we are in the prompt state.\n",

    "Otherwise, we are in the \"info gathering\" (info) state."

   ]

  },

  {

   "cell_type": "code",

   "execution_count": 60,

   "id": "74f29e15-20e2-420c-a450-84e929f16e4e",

   "metadata": {},

   "outputs": [],

   "source": [

    "from langgraph.graph import END\n",

    "\n",

    "\n",

    "def get_state(state):\n",

    "    messages = state[\"messages\"]\n",

    "    if isinstance(messages[-1], AIMessage) and messages[-1].tool_calls:\n",

    "        return \"add_tool_message\"\n",

    "    elif not isinstance(messages[-1], HumanMessage):\n",

    "        return END\n",

    "    return \"info\""

   ]

  },

  {

   "cell_type": "markdown",

   "id": "b76bea78-07a5-418f-9b7c-71c376d4b6f7",

   "metadata": {},

   "source": [

    "## Create the graph\n",

    "\n",

    "We can now the create the graph.\n",

    "We will use a SqliteSaver to persist conversation history."

   ]

  },

  {

   "cell_type": "code",

   "execution_count": 61,

   "id": "59d9d6b4-dce4-43cc-9a1a-61a7912ed5b8",

   "metadata": {},

   "outputs": [],

   "source": [

    "from langgraph.checkpoint.memory import MemorySaver\n",

    "from langgraph.graph import StateGraph, START\n",

    "from langgraph.graph.message import add_messages\n",

    "from typing import Annotated\n",

    "from typing_extensions import TypedDict\n",

    "\n",

    "\n",

    "\n",

    "class State(TypedDict):\n",

    "    messages: Annotated[list, add_messages]\n",

    "\n",

    "\n",

    "memory = MemorySaver()\n",

    "workflow = StateGraph(State)\n",

    "workflow.add_node(\"info\", info_chain)\n",

    "workflow.add_node(\"prompt\", prompt_gen_chain)\n",

    "\n",

    "\n",

    "@workflow.add_node\n",

    "def add_tool_message(state: State):\n",

    "    return {\n",

    "        \"messages\": [\n",

    "            ToolMessage(\n",

    "                content=\"Prompt generated!\",\n",

    "                tool_call_id=state[\"messages\"][-1].tool_calls[0][\"id\"],\n",

    "            )\n",

    "        ]\n",

    "    }\n",

    "\n",

    "\n",

    "workflow.add_conditional_edges(\"info\", get_state, [\"add_tool_message\", \"info\", END])\n",

    "workflow.add_edge(\"add_tool_message\", \"prompt\")\n",

    "workflow.add_edge(\"prompt\", END)\n",

    "workflow.add_edge(START, \"info\")\n",

    "graph = workflow.compile(checkpointer=memory)"

   ]

  },

  {

   "cell_type": "markdown",

   "id": "afcf523c-265d-45cf-a981-fc50c50c1738",

   "metadata": {},

   "source": [

    "## Use the graph\n",

    "\n",

    "We can now use the created chatbot. At the same time go to <a href=\https://langsmith.np1.az.cloud.geico.net/\>LangSmith UI and trace it</a>"

   ]

  },

  {

   "cell_type": "code",

   "execution_count": 62,

   "id": "25793988-45a2-4e65-b33c-64e72aadb10e",

   "metadata": {},

   "outputs": [

    {

     "name": "stdout",

     "output_type": "stream",

     "text": [

      "User (q/Q to quit): Create a prompt to compare Insurance Companies\n",

      "==================================\u001b[1m Ai Message \u001b[0m==================================\n",

      "\n",

      "Let's clarify the details before we proceed: \n",

      "\n",

      "1. **Objective**: What exactly is the comparison outcome meant to achieve? For example, are we looking at price differences, policy coverage, customer satisfaction, etc.?\n",

      "\n",

      "2. **Variables**: What inputs would you like to pass into the prompt template? Examples could include names of insurance companies, policy types, regions, or specific benefits.\n",

      "\n",

      "3. **Constraints**: Are there specific things you don't want the output to include or do? For instance, would you like to ensure that the output is unbiased and avoids branding language?\n",

      "\n",

      "4. **Requirements**: Are there specific aspects the output must focus on? For example, does it need to include a numerical score, a summary of pros and cons, or specific comparisons on details like premiums, deductibles, or coverage?\n",

      "\n",

      "Could you clarify these points so we can tailor the prompt perfectly?\n",

      "User (q/Q to quit): q\n",

      "AI: Byebye\n"

     ]

    }

   ],

   "source": [

    "import uuid\n",

    "# from langgraph.pregel import GraphExecutionConfig\n",

    "\n",

    "\n",

    "cached_human_responses = [\"hi!\", \"rag prompt\", \"1 rag, 2 none, 3 no, 4 no\", \"red\", \"q\"]\n",

    "cached_response_index = 0\n",

    "config = {\n",

    "    \"configurable\": {\"thread_id\": str(uuid.uuid4())},\n",

    "}\n",

    "\n",

    "\n",

    "while True:\n",

    "    try:\n",

    "        user = input(\"User (q/Q to quit or enter to continue): \")\n",

    "    except:\n",

    "        user = cached_human_responses[cached_response_index]\n",

    "        cached_response_index += 1\n",

    "    print(f\"User (q/Q to quit): {user}\")\n",

    "    if user in {\"q\", \"Q\"}:\n",

    "        print(\"AI: Byebye\")\n",

    "        break\n",

    "    output = None\n",

    "    for output in graph.stream(\n",

    "        {\"messages\": [HumanMessage(content=user)]},\n",

    "        config=config,\n",

    "        # stream_mode=\"updates\"\n",

    "    ):\n",

    "        last_message = next(iter(output.values()))[\"messages\"][-1]\n",

    "        last_message.pretty_print()\n",

    "\n",

    "    if output and \"prompt\" in output:\n",

    "        print(\"Done!\")"

   ]

  }

],

"metadata": {

  "kernelspec": {

   "display_name": "Python 3",

   "language": "python",

   "name": "python3"

  },

  "language_info": {

   "codemirror_mode": {

    "name": "ipython",

    "version": 3

   },

   "file_extension": ".py",

   "mimetype": "text/x-python",

   "name": "python",

   "nbconvert_exporter": "python",

   "pygments_lexer": "ipython3",

   "version": "3.10.11"

  }

},

"nbformat": 4,

"nbformat_minor": 5

}
